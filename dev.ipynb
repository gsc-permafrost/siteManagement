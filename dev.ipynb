{
 "cells": [
  {
   "cell_type": "code",
   "execution_count": 25,
   "metadata": {},
   "outputs": [],
   "source": [
    "import pandas as pd\n",
    "import geopandas as gpd\n",
    "\n",
    "Site = pd.DataFrame(data = {'SiteID':['SCL','BSP'],\n",
    "                            'latitude':[69.0,69.5],\n",
    "                            'longitude':[-134.0,-134.5],\n",
    "                            'description':['a site','description']},\n",
    "                            index=[0,1])\n",
    "\n",
    "\n",
    "\n",
    "Site_WGS = gpd.GeoDataFrame(Site, geometry=gpd.points_from_xy(Site.longitude, Site.latitude), crs=\"EPSG:4326\")\n",
    "# Site_UTM = self.Site_WGS.to_crs(self.EPSG)\n",
    "# print(Site_WGS.to_json())\n",
    "\n",
    "with open('templates/MapTemplate.html','r') as template:\n",
    "    mapTemplate = template.read()\n",
    "mapTemplate = mapTemplate.replace('fieldSitesJson',Site_WGS.to_json())\n",
    "with open('exampleMap.html','w+') as out:\n",
    "    out.write(mapTemplate)\n"
   ]
  }
 ],
 "metadata": {
  "kernelspec": {
   "display_name": "Python 3",
   "language": "python",
   "name": "python3"
  },
  "language_info": {
   "codemirror_mode": {
    "name": "ipython",
    "version": 3
   },
   "file_extension": ".py",
   "mimetype": "text/x-python",
   "name": "python",
   "nbconvert_exporter": "python",
   "pygments_lexer": "ipython3",
   "version": "3.10.4"
  }
 },
 "nbformat": 4,
 "nbformat_minor": 2
}
